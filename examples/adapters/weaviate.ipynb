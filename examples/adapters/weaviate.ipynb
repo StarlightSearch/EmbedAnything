{
 "cells": [
  {
   "cell_type": "code",
   "execution_count": 1,
   "metadata": {},
   "outputs": [
    {
     "name": "stderr",
     "output_type": "stream",
     "text": [
      "d:\\Projects\\weaviate-adapter\\venv\\Lib\\site-packages\\tqdm\\auto.py:21: TqdmWarning: IProgress not found. Please update jupyter and ipywidgets. See https://ipywidgets.readthedocs.io/en/stable/user_install.html\n",
      "  from .autonotebook import tqdm as notebook_tqdm\n"
     ]
    }
   ],
   "source": [
    "import weaviate, os\n",
    "import weaviate.classes as wvc\n",
    "from tqdm.auto import tqdm\n",
    "import embed_anything\n",
    "from embed_anything import EmbedData\n",
    "from embed_anything.vectordb import Adapter"
   ]
  },
  {
   "cell_type": "markdown",
   "metadata": {},
   "source": [
    "## Create Weaviate Adapter"
   ]
  },
  {
   "cell_type": "code",
   "execution_count": 78,
   "metadata": {},
   "outputs": [],
   "source": [
    "from typing import List\n",
    "\n",
    "\n",
    "class WeaviateAdapter(Adapter):\n",
    "    def __init__(self, api_key, url):\n",
    "        super().__init__(api_key)\n",
    "        self.client = weaviate.connect_to_weaviate_cloud(\n",
    "            cluster_url=url, auth_credentials=wvc.init.Auth.api_key(api_key)\n",
    "        )\n",
    "        if self.client.is_ready():\n",
    "            print(\"Weaviate is ready\")\n",
    "\n",
    "    def create_index(self, index_name: str):\n",
    "        self.index_name = index_name\n",
    "        self.collection = self.client.collections.create(\n",
    "            index_name, vectorizer_config=wvc.config.Configure.Vectorizer.none()\n",
    "        )\n",
    "        return self.collection\n",
    "\n",
    "    def convert(self, embeddings: List[EmbedData]):\n",
    "        data = []\n",
    "        for embedding in embeddings:\n",
    "            property = embedding.metadata\n",
    "            property[\"text\"] = embedding.text\n",
    "            data.append(\n",
    "                wvc.data.DataObject(properties=property, vector=embedding.embedding)\n",
    "            )\n",
    "        return data\n",
    "\n",
    "    def upsert(self, embeddings):\n",
    "        self.client.collections.get(self.index_name).data.insert_many(embeddings)\n",
    "\n",
    "    def delete_index(self, index_name: str):\n",
    "        self.client.collections.delete(index_name)"
   ]
  },
  {
   "cell_type": "code",
   "execution_count": 79,
   "metadata": {},
   "outputs": [
    {
     "name": "stdout",
     "output_type": "stream",
     "text": [
      "Weaviate is ready\n"
     ]
    }
   ],
   "source": [
    "URL = \"your-weaviate-url\"\n",
    "API_KEY = \"your-weaviate-api-key\"\n",
    "weaviate_adapter = WeaviateAdapter(API_KEY, URL)"
   ]
  },
  {
   "cell_type": "code",
   "execution_count": 86,
   "metadata": {},
   "outputs": [
    {
     "data": {
      "text/plain": [
       "<weaviate.collections.collection.sync.Collection at 0x7f0628568c50>"
      ]
     },
     "execution_count": 86,
     "metadata": {},
     "output_type": "execute_result"
    }
   ],
   "source": [
    "index_name = \"Test_index\"\n",
    "if index_name in weaviate_adapter.client.collections.list_all():\n",
    "    weaviate_adapter.delete_index(index_name)\n",
    "weaviate_adapter.create_index(\"Test_index\")"
   ]
  },
  {
   "cell_type": "markdown",
   "metadata": {},
   "source": [
    "## Embed Documents and Stream to Weaviate"
   ]
  },
  {
   "cell_type": "code",
   "execution_count": 92,
   "metadata": {},
   "outputs": [
    {
     "name": "stdout",
     "output_type": "stream",
     "text": [
      "{\"total_tokens\": 811, \"prompt_tokens\": 811}\n"
     ]
    }
   ],
   "source": [
    "embed_config = embed_anything.EmbedConfig(\n",
    "    cloud=embed_anything.CloudConfig(provider=\"OpenAI\", chunk_size=256)\n",
    ")\n",
    "data = embed_anything.embed_file(\n",
    "    \"test.pdf\", embeder=\"OpenAI\", adapter=weaviate_adapter, config=embed_config\n",
    ")"
   ]
  },
  {
   "cell_type": "markdown",
   "metadata": {},
   "source": [
    "## Query Search"
   ]
  },
  {
   "cell_type": "code",
   "execution_count": 94,
   "metadata": {},
   "outputs": [
    {
     "name": "stdout",
     "output_type": "stream",
     "text": [
      "{\"prompt_tokens\": 4, \"total_tokens\": 4}\n"
     ]
    }
   ],
   "source": [
    "query_vector = embed_anything.embed_query([\"What is self attention\"], embeder=\"OpenAI\")[\n",
    "    0\n",
    "].embedding"
   ]
  },
  {
   "cell_type": "code",
   "execution_count": 95,
   "metadata": {},
   "outputs": [],
   "source": [
    "response = weaviate_adapter.collection.query.near_vector(\n",
    "    near_vector=query_vector,\n",
    "    limit=2,\n",
    "    return_metadata=wvc.query.MetadataQuery(certainty=True),\n",
    ")"
   ]
  },
  {
   "cell_type": "code",
   "execution_count": 101,
   "metadata": {},
   "outputs": [
    {
     "name": "stdout",
     "output_type": "stream",
     "text": [
      "2 Background The goal of reducing sequential computation also forms the foundation of the Extended Neural GPU [16],\n",
      "ByteNet [18] and ConvS2S [9], all of which use convolutional neural networks as basic building block, computing hidden\n",
      "representations in parallel for all input and output positions. In these models, the number of operations required to\n",
      "relate signals from two arbitrary input or output positions grows in the distance between positions, linearly for\n",
      "ConvS2S and logarithmically for ByteNet. This makes it more difficult to learn dependencies between distant positions\n",
      "[12]. In the Transformer this is reduced to a constant number of operations, albeit at the cost of reduced effective\n",
      "resolution due to averaging attention-weighted positions, an effect we counteract with Multi-Head Attention as described\n",
      "in section 3. 2. Self-attention, sometimes called intra-attention is an attention mechanism relating different positions\n",
      "of a single sequence in order to compute a representation of the sequence. Self-attention has been used successfully in\n",
      "a variety of tasks including reading comprehension, abstractive summarization, textual entailment and learning task-\n",
      "independent sentence representations [4, 27, 28, 22]. End-to-end memory networks are based on a recurrent attention\n",
      "mechanism instead of sequence- aligned recurrence and have been shown to perform well on simple-language question\n",
      "answering and language modeling tasks [34]. To the best of our knowledge, however, the Transformer is the first\n",
      "transduction model relying entirely on self-attention to compute representations of its input and output without using\n",
      "sequence- aligned RNNs or convolution. In the following sections, we will describe the Transformer, motivate self-\n",
      "attention and discuss its advantages over models such as [17, 18] and [9].\n",
      "\n",
      "1 Introduction Recurrent neural networks, long short-term memory [13] and gated recurrent [7] neural networks in\n",
      "particular, have been firmly established as state of the art approaches in sequence modeling and transduction problems\n",
      "such as language modeling and machine translation [35, 2, 5]. Numerous efforts have since continued to push the\n",
      "boundaries of recurrent language models and encoder-decoder architectures [38, 24, 15]. Recurrent models typically\n",
      "factor computation along the symbol positions of the input and output sequences. Aligning the positions to steps in\n",
      "computation time, they generate a sequence of hidden states ht, as a function of the previous hidden state ht−1 and the\n",
      "input for position t. This inherently sequential nature precludes parallelization within training examples, which\n",
      "becomes critical at longer sequence lengths, as memory constraints limit batching across examples. Recent work has\n",
      "achieved significant improvements in computational efficiency through factorization tricks [21] and conditional\n",
      "computation [32], while also improving model performance in case of the latter. The fundamental constraint of sequential\n",
      "computation, however, remains. Attention mechanisms have become an integral part of compelling sequence modeling and\n",
      "transduc- tion models in various tasks, allowing modeling of dependencies without regard to their distance in the input\n",
      "or output sequences [2, 19]. In all but a few cases [27], however, such attention mechanisms are used in conjunction\n",
      "with a recurrent network. In this work we propose the Transformer, a model architecture eschewing recurrence and instead\n",
      "relying entirely on an attention mechanism to draw global dependencies between input and output. The Transformer allows\n",
      "for significantly more parallelization and can reach a new state of the art in translation quality after being trained\n",
      "for as little as twelve hours on eight P100 GPUs.\n",
      "\n"
     ]
    }
   ],
   "source": [
    "import textwrap\n",
    "\n",
    "for res in response.objects:\n",
    "    print(textwrap.fill(res.properties[\"text\"], width=120), end=\"\\n\\n\")"
   ]
  },
  {
   "cell_type": "code",
   "execution_count": null,
   "metadata": {},
   "outputs": [],
   "source": []
  }
 ],
 "metadata": {
  "kernelspec": {
   "display_name": "embed",
   "language": "python",
   "name": "python3"
  },
  "language_info": {
   "codemirror_mode": {
    "name": "ipython",
    "version": 3
   },
   "file_extension": ".py",
   "mimetype": "text/x-python",
   "name": "python",
   "nbconvert_exporter": "python",
   "pygments_lexer": "ipython3",
   "version": "3.11.4"
  }
 },
 "nbformat": 4,
 "nbformat_minor": 2
}
