{
 "cells": [
  {
   "cell_type": "code",
   "execution_count": 13,
   "metadata": {},
   "outputs": [],
   "source": [
    "import weaviate, os\n",
    "import weaviate.classes as wvc\n",
    "from tqdm.auto import tqdm\n",
    "import embed_anything\n",
    "from embed_anything import EmbedData\n",
    "from embed_anything.vectordb import Adapter"
   ]
  },
  {
   "cell_type": "markdown",
   "metadata": {},
   "source": [
    "## Create Weaviate Adapter"
   ]
  },
  {
   "cell_type": "code",
   "execution_count": 14,
   "metadata": {},
   "outputs": [],
   "source": [
    "from typing import List\n",
    "\n",
    "\n",
    "class WeaviateAdapter(Adapter):\n",
    "    def __init__(self, api_key, url):\n",
    "        super().__init__(api_key)\n",
    "        self.client = weaviate.connect_to_weaviate_cloud(\n",
    "            cluster_url=url, auth_credentials=wvc.init.Auth.api_key(api_key)\n",
    "        )\n",
    "        if self.client.is_ready():\n",
    "            print(\"Weaviate is ready\")\n",
    "\n",
    "    def create_index(self, index_name: str):\n",
    "        self.index_name = index_name\n",
    "        self.collection = self.client.collections.create(\n",
    "            index_name, vectorizer_config=wvc.config.Configure.Vectorizer.none()\n",
    "        )\n",
    "        return self.collection\n",
    "\n",
    "    def convert(self, embeddings: List[EmbedData]):\n",
    "        data = []\n",
    "        for embedding in embeddings:\n",
    "            property = embedding.metadata\n",
    "            property[\"text\"] = embedding.text\n",
    "            data.append(\n",
    "                wvc.data.DataObject(properties=property, vector=embedding.embedding)\n",
    "            )\n",
    "        return data\n",
    "\n",
    "    def upsert(self, data_):\n",
    "        data_=self.convert(data_)\n",
    "        self.client.collections.get(self.index_name).data.insert_many(data_)\n",
    "\n",
    "    def delete_index(self, index_name: str):\n",
    "        self.client.collections.delete(index_name)"
   ]
  },
  {
   "cell_type": "code",
   "execution_count": 15,
   "metadata": {},
   "outputs": [
    {
     "name": "stdout",
     "output_type": "stream",
     "text": [
      "Weaviate is ready\n"
     ]
    }
   ],
   "source": [
    "URL = \"URL\"\n",
    "API_KEY = \"API_KEY\"\n",
    "weaviate_adapter = WeaviateAdapter(API_KEY, URL)"
   ]
  },
  {
   "cell_type": "code",
   "execution_count": 16,
   "metadata": {},
   "outputs": [
    {
     "data": {
      "text/plain": [
       "<weaviate.collections.collection.sync.Collection at 0x2aa54f90850>"
      ]
     },
     "execution_count": 16,
     "metadata": {},
     "output_type": "execute_result"
    }
   ],
   "source": [
    "index_name = \"Test_index\"\n",
    "if index_name in weaviate_adapter.client.collections.list_all():\n",
    "    weaviate_adapter.delete_index(index_name)\n",
    "weaviate_adapter.create_index(\"Test_index\")"
   ]
  },
  {
   "cell_type": "markdown",
   "metadata": {},
   "source": [
    "## Embed Documents and Stream to Weaviate"
   ]
  },
  {
   "cell_type": "code",
   "execution_count": 17,
   "metadata": {},
   "outputs": [],
   "source": [
    "model = embed_anything.EmbeddingModel.from_pretrained_hf(\n",
    "    embed_anything.WhichModel.Clip,\n",
    "    model_id=\"openai/clip-vit-base-patch16\",\n",
    "    # revision=\"refs/pr/15\",\n",
    ")\n",
    "\n",
    "\n",
    "data= embed_anything.embed_image_directory(\n",
    "    \"clip\", embeder=model, adapter=weaviate_adapter\n",
    ")\n"
   ]
  },
  {
   "cell_type": "markdown",
   "metadata": {},
   "source": [
    "## Query Search"
   ]
  },
  {
   "cell_type": "code",
   "execution_count": 18,
   "metadata": {},
   "outputs": [],
   "source": [
    "query_vector = embed_anything.embed_query([\"image of a cat\"], embeder=model)[\n",
    "    0\n",
    "].embedding"
   ]
  },
  {
   "cell_type": "code",
   "execution_count": 19,
   "metadata": {},
   "outputs": [],
   "source": [
    "response = weaviate_adapter.collection.query.near_vector(\n",
    "    near_vector=query_vector,\n",
    "    limit=2,\n",
    "    return_metadata=wvc.query.MetadataQuery(certainty=True),\n",
    ")"
   ]
  },
  {
   "cell_type": "code",
   "execution_count": 30,
   "metadata": {},
   "outputs": [
    {
     "name": "stdout",
     "output_type": "stream",
     "text": [
      "\\\\?\\D:\\Projects\\EmbedAnything\\examples\\adapters\\clip\\cat2.jpeg\n",
      "\\\\?\\D:\\Projects\\EmbedAnything\\examples\\adapters\\clip\\cat1.jpg\n"
     ]
    }
   ],
   "source": [
    "for i in range(len(response.objects)):\n",
    "    print(response.objects[i].properties[\"text\"])\n"
   ]
  },
  {
   "cell_type": "code",
   "execution_count": 23,
   "metadata": {},
   "outputs": [
    {
     "data": {
      "text/plain": [
       "'\\\\\\\\?\\\\D:\\\\Projects\\\\EmbedAnything\\\\examples\\\\adapters\\\\clip\\\\cat2.jpeg'"
      ]
     },
     "execution_count": 23,
     "metadata": {},
     "output_type": "execute_result"
    }
   ],
   "source": [
    "response.objects[0].properties[\"text\"]"
   ]
  },
  {
   "cell_type": "code",
   "execution_count": 19,
   "metadata": {},
   "outputs": [],
   "source": [
    "import textwrap\n",
    "\n",
    "for res in response.objects:\n",
    "    print(textwrap.fill(res.properties[\"text\"], width=120), end=\"\\n\\n\")"
   ]
  },
  {
   "cell_type": "code",
   "execution_count": null,
   "metadata": {},
   "outputs": [],
   "source": []
  }
 ],
 "metadata": {
  "kernelspec": {
   "display_name": "embed",
   "language": "python",
   "name": "python3"
  },
  "language_info": {
   "codemirror_mode": {
    "name": "ipython",
    "version": 3
   },
   "file_extension": ".py",
   "mimetype": "text/x-python",
   "name": "python",
   "nbconvert_exporter": "python",
   "pygments_lexer": "ipython3",
   "version": "3.11.4"
  }
 },
 "nbformat": 4,
 "nbformat_minor": 2
}
