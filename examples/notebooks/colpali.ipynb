{
 "cells": [
  {
   "cell_type": "code",
   "execution_count": 1,
   "metadata": {},
   "outputs": [],
   "source": [
    "import base64\n",
    "from embed_anything import EmbedData, ColpaliModel\n",
    "import numpy as np\n",
    "from tabulate import tabulate\n",
    "from pathlib import Path\n",
    "from PIL import Image\n",
    "import io\n",
    "\n",
    "\n",
    "model: ColpaliModel = ColpaliModel.from_pretrained(\"vidore/colpali-v1.2-merged\", None)\n",
    "\n",
    "def process_pdf(files, model:ColpaliModel):\n",
    "    file_embed_data: list[EmbedData] = []\n",
    "    for file in files:\n",
    "        try:\n",
    "            embedding: list[EmbedData] = model.embed_file(str(file), batch_size=1)\n",
    "            file_embed_data.extend(embedding)   \n",
    "        except Exception as e:\n",
    "            print(f\"Error embedding file {file}: {e}\")\n",
    "\n",
    "    return file_embed_data\n",
    "\n"
   ]
  },
  {
   "cell_type": "code",
   "execution_count": 2,
   "metadata": {},
   "outputs": [],
   "source": [
    "def process_query(query, model):    \n",
    "    query_embedding = model.embed_query(query)\n",
    "    query_embeddings = np.array([e.embedding for e in query_embedding])\n",
    "    return query_embeddings\n",
    "\n",
    "def score(query_embeddings, file_embed_data):\n",
    "    file_embeddings = np.array([e.embedding for e in file_embed_data])\n",
    "    scores = np.einsum(\"bnd,csd->bcns\", query_embeddings, file_embeddings).max(axis=3).sum(axis=2).squeeze()\n",
    "\n",
    "    # Get top pages\n",
    "    top_pages = np.argsort(scores)[::-1][:3]\n",
    "\n",
    "    # Extract file names and page numbers\n",
    "    table = [\n",
    "        [file_embed_data[page].metadata[\"file_path\"].split(\"/\")[-1], file_embed_data[page].metadata[\"page_number\"]]\n",
    "        for page in top_pages\n",
    "    ]\n",
    "\n",
    "    # Print the results in a table\n",
    "    print(tabulate(table, headers=[\"File Name\", \"Page Number\"], tablefmt=\"grid\"))\n",
    "    results_str = tabulate(table, headers=[\"File Name\", \"Page Number\"], tablefmt=\"grid\")\n",
    "\n",
    "    images = [file_embed_data[page].metadata[\"image\"] for page in top_pages]\n",
    "    images = [Image.open(io.BytesIO(base64.b64decode(image))) for image in images]\n",
    "    return images, results_str\n"
   ]
  },
  {
   "cell_type": "code",
   "execution_count": 3,
   "metadata": {},
   "outputs": [],
   "source": [
    "# Get all PDF files in the directory\n",
    "directory = Path(\"../../test_files\")\n",
    "files = list(directory.glob(\"*.pdf\"))\n",
    "file_embed_data = process_pdf(files, model)\n",
    "query = \"What is the first page of the pdf\"\n",
    "query_embeddings = process_query(query, model)\n",
    "images, results_str = score(query_embeddings, file_embed_data)\n",
    "\n",
    "import matplotlib.pyplot as plt\n",
    "# show the images side by side using subplots\n",
    "fig, axs = plt.subplots(1, len(images), figsize=(20, 15))\n",
    "for i, image in enumerate(images):\n",
    "    axs[i].imshow(image)\n",
    "    axs[i].axis('off')\n",
    "plt.show();\n"
   ]
  },
  {
   "cell_type": "code",
   "execution_count": 4,
   "metadata": {},
   "outputs": [],
   "source": [
    "def process_pdf_on_upload(files):\n",
    "    global embedded_file_data\n",
    "    # Embed the uploaded PDF files\n",
    "    embedded_file_data = process_pdf(files, model)\n",
    "    return f\"Processed {len(files)} PDFs\""
   ]
  },
  {
   "cell_type": "code",
   "execution_count": 5,
   "metadata": {},
   "outputs": [
    {
     "name": "stderr",
     "output_type": "stream",
     "text": [
      "/home/akshay/miniconda3/envs/embed/lib/python3.10/site-packages/tqdm/auto.py:21: TqdmWarning: IProgress not found. Please update jupyter and ipywidgets. See https://ipywidgets.readthedocs.io/en/stable/user_install.html\n",
      "  from .autonotebook import tqdm as notebook_tqdm\n"
     ]
    },
    {
     "name": "stdout",
     "output_type": "stream",
     "text": [
      "* Running on local URL:  http://127.0.0.1:7860\n",
      "\n",
      "To create a public link, set `share=True` in `launch()`.\n"
     ]
    },
    {
     "data": {
      "text/html": [
       "<div><iframe src=\"http://127.0.0.1:7860/\" width=\"100%\" height=\"500\" allow=\"autoplay; camera; microphone; clipboard-read; clipboard-write;\" frameborder=\"0\" allowfullscreen></iframe></div>"
      ],
      "text/plain": [
       "<IPython.core.display.HTML object>"
      ]
     },
     "metadata": {},
     "output_type": "display_data"
    },
    {
     "data": {
      "text/plain": []
     },
     "execution_count": 5,
     "metadata": {},
     "output_type": "execute_result"
    },
    {
     "name": "stdout",
     "output_type": "stream",
     "text": [
      "+---------------+---------------+\n",
      "| File Name     |   Page Number |\n",
      "+===============+===============+\n",
      "| attention.pdf |             1 |\n",
      "+---------------+---------------+\n",
      "| attention.pdf |            12 |\n",
      "+---------------+---------------+\n",
      "| attention.pdf |            11 |\n",
      "+---------------+---------------+\n",
      "+---------------+---------------+\n",
      "| File Name     |   Page Number |\n",
      "+===============+===============+\n",
      "| attention.pdf |             9 |\n",
      "+---------------+---------------+\n",
      "| attention.pdf |             7 |\n",
      "+---------------+---------------+\n",
      "| attention.pdf |             3 |\n",
      "+---------------+---------------+\n",
      "+-------------+---------------+\n",
      "| File Name   |   Page Number |\n",
      "+=============+===============+\n",
      "| court.pdf   |            27 |\n",
      "+-------------+---------------+\n",
      "| court.pdf   |            16 |\n",
      "+-------------+---------------+\n",
      "| court.pdf   |            38 |\n",
      "+-------------+---------------+\n"
     ]
    }
   ],
   "source": [
    "import gradio as gr\n",
    "\n",
    "# Gradio app interface\n",
    "def gradio_app(query):\n",
    "    global embedded_file_data\n",
    "    if embedded_file_data is None:\n",
    "        return [], \"No PDFs have been uploaded or processed.\"\n",
    "    \n",
    "    # Process the query and return results\n",
    "    query_embeddings = process_query(query, model)\n",
    "    images, results_str = score(query_embeddings, embedded_file_data)\n",
    "    \n",
    "    return images, results_str\n",
    "# Gradio Interface definition\n",
    "with gr.Blocks() as demo:\n",
    "    gr.Markdown(\"# PDF Search and Embedding App\")\n",
    "    \n",
    "    with gr.Column():\n",
    "        pdf_upload = gr.Files(label=\"Upload PDFs\", file_types=[\".pdf\"])\n",
    "        upload_status = gr.Textbox(label=\"Upload Status\", interactive=False)\n",
    "        query_input = gr.Textbox(label=\"Query\")\n",
    "        submit_btn = gr.Button(\"Submit\")\n",
    "    \n",
    "    with gr.Row():\n",
    "        gallery_output = gr.Gallery(label=\"Top Results Images\")\n",
    "        results_output = gr.Textbox(label=\"Results\", interactive=False)\n",
    "    \n",
    "    # Embed PDFs when files are uploaded\n",
    "    pdf_upload.upload(process_pdf_on_upload, inputs=pdf_upload, outputs=upload_status)\n",
    "    \n",
    "    # Handle the query when submit button is clicked\n",
    "    submit_btn.click(gradio_app, inputs=[query_input], outputs=[gallery_output, results_output])\n",
    "\n",
    "demo.launch()"
   ]
  }
 ],
 "metadata": {
  "kernelspec": {
   "display_name": "embed",
   "language": "python",
   "name": "python3"
  },
  "language_info": {
   "codemirror_mode": {
    "name": "ipython",
    "version": 3
   },
   "file_extension": ".py",
   "mimetype": "text/x-python",
   "name": "python",
   "nbconvert_exporter": "python",
   "pygments_lexer": "ipython3",
   "version": "3.10.14"
  }
 },
 "nbformat": 4,
 "nbformat_minor": 2
}
