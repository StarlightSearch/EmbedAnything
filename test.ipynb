{
 "cells": [
  {
   "cell_type": "code",
   "execution_count": 29,
   "metadata": {},
   "outputs": [
    {
     "name": "stderr",
     "output_type": "stream",
     "text": [
      "huggingface/tokenizers: The current process just got forked, after parallelism has already been used. Disabling parallelism to avoid deadlocks...\n",
      "To disable this warning, you can either:\n",
      "\t- Avoid using `tokenizers` before the fork if possible\n",
      "\t- Explicitly set the environment variable TOKENIZERS_PARALLELISM=(true | false)\n"
     ]
    },
    {
     "name": "stdout",
     "output_type": "stream",
     "text": [
      "--2024-10-10 16:32:48--  https://arxiv.org/pdf/1706.03762\n",
      "Resolving arxiv.org (arxiv.org)... 151.101.131.42, 151.101.3.42, 151.101.195.42, ...\n",
      "Connecting to arxiv.org (arxiv.org)|151.101.131.42|:443... connected.\n",
      "HTTP request sent, awaiting response... 200 OK\n",
      "Length: 2215244 (2.1M) [application/pdf]\n",
      "Saving to: ‘bench/attention.pdf’\n",
      "\n",
      "bench/attention.pdf 100%[===================>]   2.11M  5.13MB/s    in 0.4s    \n",
      "\n",
      "2024-10-10 16:32:48 (5.13 MB/s) - ‘bench/attention.pdf’ saved [2215244/2215244]\n",
      "\n"
     ]
    },
    {
     "name": "stderr",
     "output_type": "stream",
     "text": [
      "huggingface/tokenizers: The current process just got forked, after parallelism has already been used. Disabling parallelism to avoid deadlocks...\n",
      "To disable this warning, you can either:\n",
      "\t- Avoid using `tokenizers` before the fork if possible\n",
      "\t- Explicitly set the environment variable TOKENIZERS_PARALLELISM=(true | false)\n"
     ]
    },
    {
     "name": "stdout",
     "output_type": "stream",
     "text": [
      "--2024-10-10 16:32:49--  https://arxiv.org/pdf/2407.01449\n",
      "Resolving arxiv.org (arxiv.org)... 151.101.67.42, 151.101.195.42, 151.101.3.42, ...\n",
      "Connecting to arxiv.org (arxiv.org)|151.101.67.42|:443... connected.\n",
      "HTTP request sent, awaiting response... 200 OK\n",
      "Length: 9380119 (8.9M) [application/pdf]\n",
      "Saving to: ‘bench/colpali.pdf’\n",
      "\n",
      "bench/colpali.pdf   100%[===================>]   8.95M  6.08MB/s    in 1.5s    \n",
      "\n",
      "2024-10-10 16:32:50 (6.08 MB/s) - ‘bench/colpali.pdf’ saved [9380119/9380119]\n",
      "\n",
      "--2024-10-10 16:32:50--  https://arxiv.org/pdf/2310.06825\n",
      "Resolving arxiv.org (arxiv.org)... 151.101.131.42, 151.101.67.42, 151.101.195.42, ...\n",
      "Connecting to arxiv.org (arxiv.org)|151.101.131.42|:443... connected.\n"
     ]
    },
    {
     "name": "stderr",
     "output_type": "stream",
     "text": [
      "huggingface/tokenizers: The current process just got forked, after parallelism has already been used. Disabling parallelism to avoid deadlocks...\n",
      "To disable this warning, you can either:\n",
      "\t- Avoid using `tokenizers` before the fork if possible\n",
      "\t- Explicitly set the environment variable TOKENIZERS_PARALLELISM=(true | false)\n"
     ]
    },
    {
     "name": "stdout",
     "output_type": "stream",
     "text": [
      "HTTP request sent, awaiting response... 200 OK\n",
      "Length: 3749788 (3.6M) [application/pdf]\n",
      "Saving to: ‘bench/mistral.pdf’\n",
      "\n",
      "bench/mistral.pdf   100%[===================>]   3.58M  4.32MB/s    in 0.8s    \n",
      "\n",
      "2024-10-10 16:32:51 (4.32 MB/s) - ‘bench/mistral.pdf’ saved [3749788/3749788]\n",
      "\n"
     ]
    }
   ],
   "source": [
    "import os\n",
    "\n",
    "if os.path.exists(\"bench\") == False:\n",
    "    os.mkdir(\"bench\")\n",
    "\n",
    "!wget https://arxiv.org/pdf/1706.03762 -O bench/attention.pdf\n",
    "!wget https://arxiv.org/pdf/2407.01449 -O bench/colpali.pdf\n",
    "!wget https://arxiv.org/pdf/2310.06825 -O bench/mistral.pdf\n"
   ]
  },
  {
   "cell_type": "code",
   "execution_count": 30,
   "metadata": {},
   "outputs": [],
   "source": [
    "# from sentence_transformers import SentenceTransformer\n",
    "# import pymupdf\n",
    "# from semantic_text_splitter import TextSplitter\n",
    "# import time\n",
    "# splitter = TextSplitter(1000)\n",
    "# files = []\n",
    "# model = SentenceTransformer('BAAI/bge-small-en-v1.5')\n",
    "\n",
    "# # get all pdfs from test_files\n",
    "# now = time.time()\n",
    "\n",
    "# for file in os.listdir(\"bench\"):\n",
    "\n",
    "#   text = []\n",
    "#   doc = pymupdf.open(\"bench/\" + file)\n",
    "\n",
    "#   for page in doc:\n",
    "#       text.append(page.get_text())\n",
    "\n",
    "#   text = \" \".join(text)\n",
    "#   chunks = splitter.chunks(text)\n",
    "#   embeddings = model.encode(chunks)\n",
    "\n",
    "\n",
    "# print(time.time() - now)\n",
    "\n"
   ]
  },
  {
   "cell_type": "code",
   "execution_count": 31,
   "metadata": {},
   "outputs": [],
   "source": [
    "import torch\n",
    "import gc\n",
    "gc.collect()\n",
    "torch.cuda.empty_cache()"
   ]
  },
  {
   "cell_type": "code",
   "execution_count": 10,
   "metadata": {},
   "outputs": [
    {
     "data": {
      "application/vnd.jupyter.widget-view+json": {
       "model_id": "39d7ab6f0f4d46d7a5182bfc6ea83e2a",
       "version_major": 2,
       "version_minor": 0
      },
      "text/plain": [
       "Fetching 5 files:   0%|          | 0/5 [00:00<?, ?it/s]"
      ]
     },
     "metadata": {},
     "output_type": "display_data"
    },
    {
     "name": "stdout",
     "output_type": "stream",
     "text": [
      "colpali.pdf\n",
      "(68, 384)\n",
      "mistral.pdf\n",
      "(26, 384)\n",
      "attention.pdf\n",
      "(42, 384)\n",
      "0.36588358879089355\n"
     ]
    }
   ],
   "source": [
    "from fastembed import TextEmbedding\n",
    "import pymupdf\n",
    "from semantic_text_splitter import TextSplitter\n",
    "import time\n",
    "import os\n",
    "import numpy as np\n",
    "splitter = TextSplitter(1000)\n",
    "files = []\n",
    "model = TextEmbedding(model_name = \"BAAI/bge-small-en-v1.5\",\n",
    "                      providers=[\"CUDAExecutionProvider\", \"CPUExecutionProvider\"])\n",
    "\n",
    "# get all pdfs from test_files\n",
    "now = time.time()\n",
    "\n",
    "for file in os.listdir(\"bench\"):\n",
    "\n",
    "  text = []\n",
    "  print(file)\n",
    "  doc = pymupdf.open(\"bench/\" + file)\n",
    "\n",
    "  for page in doc:\n",
    "      text.append(page.get_text())\n",
    "\n",
    "  text = \" \".join(text)\n",
    "  chunks = splitter.chunks(text)\n",
    "  embeddings = list(model.embed(chunks))\n",
    "  embeddings = np.array(embeddings)\n",
    "  print(embeddings.shape)\n",
    "print(time.time() - now)\n"
   ]
  },
  {
   "cell_type": "code",
   "execution_count": 16,
   "metadata": {},
   "outputs": [
    {
     "data": {
      "text/plain": [
       "[{'model': 'BAAI/bge-base-en',\n",
       "  'dim': 768,\n",
       "  'description': 'Text embeddings, Unimodal (text), English, 512 input tokens truncation, Prefixes for queries/documents: necessary, 2023 year',\n",
       "  'size_in_GB': 0.42,\n",
       "  'sources': {'url': 'https://storage.googleapis.com/qdrant-fastembed/fast-bge-base-en.tar.gz'},\n",
       "  'model_file': 'model_optimized.onnx'},\n",
       " {'model': 'BAAI/bge-base-en-v1.5',\n",
       "  'dim': 768,\n",
       "  'description': 'Text embeddings, Unimodal (text), English, 512 input tokens truncation, Prefixes for queries/documents: not so necessary, 2023 year',\n",
       "  'size_in_GB': 0.21,\n",
       "  'sources': {'url': 'https://storage.googleapis.com/qdrant-fastembed/fast-bge-base-en-v1.5.tar.gz',\n",
       "   'hf': 'qdrant/bge-base-en-v1.5-onnx-q'},\n",
       "  'model_file': 'model_optimized.onnx'},\n",
       " {'model': 'BAAI/bge-large-en-v1.5',\n",
       "  'dim': 1024,\n",
       "  'description': 'Text embeddings, Unimodal (text), English, 512 input tokens truncation, Prefixes for queries/documents: not so necessary, 2023 year',\n",
       "  'size_in_GB': 1.2,\n",
       "  'sources': {'hf': 'qdrant/bge-large-en-v1.5-onnx'},\n",
       "  'model_file': 'model.onnx'},\n",
       " {'model': 'BAAI/bge-small-en',\n",
       "  'dim': 384,\n",
       "  'description': 'Text embeddings, Unimodal (text), English, 512 input tokens truncation, Prefixes for queries/documents: necessary, 2023 year',\n",
       "  'size_in_GB': 0.13,\n",
       "  'sources': {'url': 'https://storage.googleapis.com/qdrant-fastembed/BAAI-bge-small-en.tar.gz'},\n",
       "  'model_file': 'model_optimized.onnx'},\n",
       " {'model': 'BAAI/bge-small-en-v1.5',\n",
       "  'dim': 384,\n",
       "  'description': 'Text embeddings, Unimodal (text), English, 512 input tokens truncation, Prefixes for queries/documents: not so necessary, 2023 year',\n",
       "  'size_in_GB': 0.067,\n",
       "  'sources': {'hf': 'qdrant/bge-small-en-v1.5-onnx-q'},\n",
       "  'model_file': 'model_optimized.onnx'},\n",
       " {'model': 'BAAI/bge-small-zh-v1.5',\n",
       "  'dim': 512,\n",
       "  'description': 'Text embeddings, Unimodal (text), Chinese, 512 input tokens truncation, Prefixes for queries/documents: not so necessary, 2023 year',\n",
       "  'size_in_GB': 0.09,\n",
       "  'sources': {'url': 'https://storage.googleapis.com/qdrant-fastembed/fast-bge-small-zh-v1.5.tar.gz'},\n",
       "  'model_file': 'model_optimized.onnx'},\n",
       " {'model': 'sentence-transformers/paraphrase-multilingual-MiniLM-L12-v2',\n",
       "  'dim': 384,\n",
       "  'description': 'Text embeddings, Unimodal (text), Multilingual (~50 languages), 512 input tokens truncation, Prefixes for queries/documents: not necessary, 2019 year',\n",
       "  'size_in_GB': 0.22,\n",
       "  'sources': {'hf': 'qdrant/paraphrase-multilingual-MiniLM-L12-v2-onnx-Q'},\n",
       "  'model_file': 'model_optimized.onnx'},\n",
       " {'model': 'thenlper/gte-large',\n",
       "  'dim': 1024,\n",
       "  'description': 'Text embeddings, Unimodal (text), English, 512 input tokens truncation, Prefixes for queries/documents: not necessary, 2023 year',\n",
       "  'size_in_GB': 1.2,\n",
       "  'sources': {'hf': 'qdrant/gte-large-onnx'},\n",
       "  'model_file': 'model.onnx'},\n",
       " {'model': 'mixedbread-ai/mxbai-embed-large-v1',\n",
       "  'dim': 1024,\n",
       "  'description': 'Text embeddings, Unimodal (text), English, 512 input tokens truncation, Prefixes for queries/documents: necessary, 2024 year',\n",
       "  'size_in_GB': 0.64,\n",
       "  'sources': {'hf': 'mixedbread-ai/mxbai-embed-large-v1'},\n",
       "  'model_file': 'onnx/model.onnx'},\n",
       " {'model': 'snowflake/snowflake-arctic-embed-xs',\n",
       "  'dim': 384,\n",
       "  'description': 'Text embeddings, Unimodal (text), English, 512 input tokens truncation, Prefixes for queries/documents: necessary, 2024 year',\n",
       "  'size_in_GB': 0.09,\n",
       "  'sources': {'hf': 'snowflake/snowflake-arctic-embed-xs'},\n",
       "  'model_file': 'onnx/model.onnx'},\n",
       " {'model': 'snowflake/snowflake-arctic-embed-s',\n",
       "  'dim': 384,\n",
       "  'description': 'Text embeddings, Unimodal (text), English, 512 input tokens truncation, Prefixes for queries/documents: necessary, 2024 year',\n",
       "  'size_in_GB': 0.13,\n",
       "  'sources': {'hf': 'snowflake/snowflake-arctic-embed-s'},\n",
       "  'model_file': 'onnx/model.onnx'},\n",
       " {'model': 'snowflake/snowflake-arctic-embed-m',\n",
       "  'dim': 768,\n",
       "  'description': 'Text embeddings, Unimodal (text), English, 512 input tokens truncation, Prefixes for queries/documents: necessary, 2024 year',\n",
       "  'size_in_GB': 0.43,\n",
       "  'sources': {'hf': 'Snowflake/snowflake-arctic-embed-m'},\n",
       "  'model_file': 'onnx/model.onnx'},\n",
       " {'model': 'snowflake/snowflake-arctic-embed-m-long',\n",
       "  'dim': 768,\n",
       "  'description': 'Text embeddings, Unimodal (text), English, 2048 input tokens truncation, Prefixes for queries/documents: necessary, 2024 year',\n",
       "  'size_in_GB': 0.54,\n",
       "  'sources': {'hf': 'snowflake/snowflake-arctic-embed-m-long'},\n",
       "  'model_file': 'onnx/model.onnx'},\n",
       " {'model': 'snowflake/snowflake-arctic-embed-l',\n",
       "  'dim': 1024,\n",
       "  'description': 'Text embeddings, Unimodal (text), English, 512 input tokens truncation, Prefixes for queries/documents: necessary, 2024 year',\n",
       "  'size_in_GB': 1.02,\n",
       "  'sources': {'hf': 'snowflake/snowflake-arctic-embed-l'},\n",
       "  'model_file': 'onnx/model.onnx'},\n",
       " {'model': 'intfloat/multilingual-e5-large',\n",
       "  'dim': 1024,\n",
       "  'description': 'Text embeddings, Unimodal (text), Multilingual (~100 languages), 512 input tokens truncation, Prefixes for queries/documents: necessary, 2024 year',\n",
       "  'size_in_GB': 2.24,\n",
       "  'sources': {'url': 'https://storage.googleapis.com/qdrant-fastembed/fast-multilingual-e5-large.tar.gz',\n",
       "   'hf': 'qdrant/multilingual-e5-large-onnx'},\n",
       "  'model_file': 'model.onnx',\n",
       "  'additional_files': ['model.onnx_data']},\n",
       " {'model': 'sentence-transformers/paraphrase-multilingual-mpnet-base-v2',\n",
       "  'dim': 768,\n",
       "  'description': 'Text embeddings, Unimodal (text), Multilingual (~50 languages), 384 input tokens truncation, Prefixes for queries/documents: not necessary, 2021 year',\n",
       "  'size_in_GB': 1.0,\n",
       "  'sources': {'hf': 'xenova/paraphrase-multilingual-mpnet-base-v2'},\n",
       "  'model_file': 'onnx/model.onnx'},\n",
       " {'model': 'Qdrant/clip-ViT-B-32-text',\n",
       "  'dim': 512,\n",
       "  'description': 'Text embeddings, Multimodal (text&image), English, 77 input tokens truncation, Prefixes for queries/documents: not necessary, 2021 year',\n",
       "  'size_in_GB': 0.25,\n",
       "  'sources': {'hf': 'Qdrant/clip-ViT-B-32-text'},\n",
       "  'model_file': 'model.onnx'},\n",
       " {'model': 'sentence-transformers/all-MiniLM-L6-v2',\n",
       "  'dim': 384,\n",
       "  'description': 'Text embeddings, Unimodal (text), English, 256 input tokens truncation, Prefixes for queries/documents: not necessary, 2021 year',\n",
       "  'size_in_GB': 0.09,\n",
       "  'sources': {'url': 'https://storage.googleapis.com/qdrant-fastembed/sentence-transformers-all-MiniLM-L6-v2.tar.gz',\n",
       "   'hf': 'qdrant/all-MiniLM-L6-v2-onnx'},\n",
       "  'model_file': 'model.onnx'},\n",
       " {'model': 'jinaai/jina-embeddings-v2-base-en',\n",
       "  'dim': 768,\n",
       "  'description': 'Text embeddings, Unimodal (text), English, 8192 input tokens truncation, Prefixes for queries/documents: not necessary, 2023 year',\n",
       "  'size_in_GB': 0.52,\n",
       "  'sources': {'hf': 'xenova/jina-embeddings-v2-base-en'},\n",
       "  'model_file': 'onnx/model.onnx'},\n",
       " {'model': 'jinaai/jina-embeddings-v2-small-en',\n",
       "  'dim': 512,\n",
       "  'description': 'Text embeddings, Unimodal (text), English, 8192 input tokens truncation, Prefixes for queries/documents: not necessary, 2023 year',\n",
       "  'size_in_GB': 0.12,\n",
       "  'sources': {'hf': 'xenova/jina-embeddings-v2-small-en'},\n",
       "  'model_file': 'onnx/model.onnx'},\n",
       " {'model': 'jinaai/jina-embeddings-v2-base-de',\n",
       "  'dim': 768,\n",
       "  'description': 'Text embeddings, Unimodal (text), Multilingual (German, English), 8192 input tokens truncation, Prefixes for queries/documents: not necessary, 2024 year',\n",
       "  'size_in_GB': 0.32,\n",
       "  'sources': {'hf': 'jinaai/jina-embeddings-v2-base-de'},\n",
       "  'model_file': 'onnx/model_fp16.onnx'},\n",
       " {'model': 'jinaai/jina-embeddings-v2-base-code',\n",
       "  'dim': 768,\n",
       "  'description': 'Text embeddings, Unimodal (text), Multilingual (English, 30 programming languages), 8192 input tokens truncation, Prefixes for queries/documents: not necessary, 2024 year',\n",
       "  'size_in_GB': 0.64,\n",
       "  'sources': {'hf': 'jinaai/jina-embeddings-v2-base-code'},\n",
       "  'model_file': 'onnx/model.onnx'},\n",
       " {'model': 'nomic-ai/nomic-embed-text-v1.5',\n",
       "  'dim': 768,\n",
       "  'description': 'Text embeddings, Multimodal (text, image), English, 8192 input tokens truncation, Prefixes for queries/documents: necessary, 2024 year',\n",
       "  'size_in_GB': 0.52,\n",
       "  'sources': {'hf': 'nomic-ai/nomic-embed-text-v1.5'},\n",
       "  'model_file': 'onnx/model.onnx'},\n",
       " {'model': 'nomic-ai/nomic-embed-text-v1.5-Q',\n",
       "  'dim': 768,\n",
       "  'description': 'Text embeddings, Multimodal (text, image), English, 8192 input tokens truncation, Prefixes for queries/documents: necessary, 2024 year',\n",
       "  'size_in_GB': 0.13,\n",
       "  'sources': {'hf': 'nomic-ai/nomic-embed-text-v1.5'},\n",
       "  'model_file': 'onnx/model_quantized.onnx'},\n",
       " {'model': 'nomic-ai/nomic-embed-text-v1',\n",
       "  'dim': 768,\n",
       "  'description': 'Text embeddings, Multimodal (text, image), English, 8192 input tokens truncation, Prefixes for queries/documents: necessary, 2024 year',\n",
       "  'size_in_GB': 0.52,\n",
       "  'sources': {'hf': 'nomic-ai/nomic-embed-text-v1'},\n",
       "  'model_file': 'onnx/model.onnx'}]"
      ]
     },
     "execution_count": 16,
     "metadata": {},
     "output_type": "execute_result"
    }
   ],
   "source": [
    "model.list_supported_models()"
   ]
  },
  {
   "cell_type": "code",
   "execution_count": 8,
   "metadata": {},
   "outputs": [
    {
     "name": "stdout",
     "output_type": "stream",
     "text": [
      "colpali.pdf\n",
      "mistral.pdf\n",
      "attention.pdf\n",
      "0.7806596755981445\n"
     ]
    }
   ],
   "source": [
    "from embed_anything import EmbeddingModel, WhichModel, TextEmbedConfig, embed_query, embed_directory\n",
    "import time\n",
    "\n",
    "import pymupdf\n",
    "from semantic_text_splitter import TextSplitter\n",
    "import time\n",
    "import os\n",
    "\n",
    "config = TextEmbedConfig(256,4, buffer_size = 64)\n",
    "model = EmbeddingModel.from_pretrained_onnx(WhichModel.Bert, \"BAAI/bge-small-en-v1.5\")\n",
    "splitter = TextSplitter(1000)\n",
    "files = []\n",
    "\n",
    "\n",
    "# get all pdfs from test_files\n",
    "now = time.time()\n",
    "\n",
    "for file in os.listdir(\"bench\"):\n",
    "  text = []\n",
    "  print(file)\n",
    "  doc = pymupdf.open(\"bench/\" + file)\n",
    "\n",
    "  for page in doc:\n",
    "      text.append(page.get_text())\n",
    "  \n",
    "  text = \" \".join(text)\n",
    "  chunks = splitter.chunks(text)\n",
    "  embeddings = embed_query(chunks, model, config)\n",
    "print(time.time() - now)\n"
   ]
  },
  {
   "cell_type": "code",
   "execution_count": null,
   "metadata": {},
   "outputs": [],
   "source": []
  }
 ],
 "metadata": {
  "kernelspec": {
   "display_name": "langchain",
   "language": "python",
   "name": "python3"
  },
  "language_info": {
   "codemirror_mode": {
    "name": "ipython",
    "version": 3
   },
   "file_extension": ".py",
   "mimetype": "text/x-python",
   "name": "python",
   "nbconvert_exporter": "python",
   "pygments_lexer": "ipython3",
   "version": "3.11.8"
  }
 },
 "nbformat": 4,
 "nbformat_minor": 2
}
