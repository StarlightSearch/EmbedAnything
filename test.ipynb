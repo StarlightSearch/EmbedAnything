{
 "cells": [
  {
   "cell_type": "code",
   "execution_count": 14,
   "metadata": {},
   "outputs": [
    {
     "name": "stderr",
     "output_type": "stream",
     "text": [
      "huggingface/tokenizers: The current process just got forked, after parallelism has already been used. Disabling parallelism to avoid deadlocks...\n",
      "To disable this warning, you can either:\n",
      "\t- Avoid using `tokenizers` before the fork if possible\n",
      "\t- Explicitly set the environment variable TOKENIZERS_PARALLELISM=(true | false)\n"
     ]
    },
    {
     "name": "stdout",
     "output_type": "stream",
     "text": [
      "--2024-10-10 20:53:22--  https://arxiv.org/pdf/1706.03762\n",
      "Resolving arxiv.org (arxiv.org)... 151.101.67.42, 151.101.131.42, 151.101.3.42, ...\n",
      "Connecting to arxiv.org (arxiv.org)|151.101.67.42|:443... connected.\n",
      "HTTP request sent, awaiting response... 200 OK\n",
      "Length: 2215244 (2.1M) [application/pdf]\n",
      "Saving to: ‘bench/attention.pdf’\n",
      "\n",
      "bench/attention.pdf 100%[===================>]   2.11M  1.64MB/s    in 1.3s    \n",
      "\n",
      "2024-10-10 20:53:23 (1.64 MB/s) - ‘bench/attention.pdf’ saved [2215244/2215244]\n",
      "\n",
      "--2024-10-10 20:53:23--  https://arxiv.org/pdf/2407.01449\n",
      "Resolving arxiv.org (arxiv.org)... "
     ]
    },
    {
     "name": "stderr",
     "output_type": "stream",
     "text": [
      "huggingface/tokenizers: The current process just got forked, after parallelism has already been used. Disabling parallelism to avoid deadlocks...\n",
      "To disable this warning, you can either:\n",
      "\t- Avoid using `tokenizers` before the fork if possible\n",
      "\t- Explicitly set the environment variable TOKENIZERS_PARALLELISM=(true | false)\n"
     ]
    },
    {
     "name": "stdout",
     "output_type": "stream",
     "text": [
      "151.101.195.42, 151.101.3.42, 151.101.131.42, ...\n",
      "Connecting to arxiv.org (arxiv.org)|151.101.195.42|:443... connected.\n",
      "HTTP request sent, awaiting response... 200 OK\n",
      "Length: 9380119 (8.9M) [application/pdf]\n",
      "Saving to: ‘bench/colpali.pdf’\n",
      "\n",
      "bench/colpali.pdf   100%[===================>]   8.95M  2.70MB/s    in 3.3s    \n",
      "\n",
      "2024-10-10 20:53:27 (2.70 MB/s) - ‘bench/colpali.pdf’ saved [9380119/9380119]\n",
      "\n",
      "--2024-10-10 20:53:27--  https://arxiv.org/pdf/2310.06825\n",
      "Resolving arxiv.org (arxiv.org)... "
     ]
    },
    {
     "name": "stderr",
     "output_type": "stream",
     "text": [
      "huggingface/tokenizers: The current process just got forked, after parallelism has already been used. Disabling parallelism to avoid deadlocks...\n",
      "To disable this warning, you can either:\n",
      "\t- Avoid using `tokenizers` before the fork if possible\n",
      "\t- Explicitly set the environment variable TOKENIZERS_PARALLELISM=(true | false)\n"
     ]
    },
    {
     "name": "stdout",
     "output_type": "stream",
     "text": [
      "151.101.67.42, 151.101.195.42, 151.101.3.42, ...\n",
      "Connecting to arxiv.org (arxiv.org)|151.101.67.42|:443... connected.\n",
      "HTTP request sent, awaiting response... 200 OK\n",
      "Length: 3749788 (3.6M) [application/pdf]\n",
      "Saving to: ‘bench/mistral.pdf’\n",
      "\n",
      "bench/mistral.pdf   100%[===================>]   3.58M  2.88MB/s    in 1.2s    \n",
      "\n",
      "2024-10-10 20:53:29 (2.88 MB/s) - ‘bench/mistral.pdf’ saved [3749788/3749788]\n",
      "\n"
     ]
    }
   ],
   "source": [
    "import os\n",
    "\n",
    "if os.path.exists(\"bench\") == False:\n",
    "    os.mkdir(\"bench\")\n",
    "\n",
    "!wget https://arxiv.org/pdf/1706.03762 -O bench/attention.pdf\n",
    "!wget https://arxiv.org/pdf/2407.01449 -O bench/colpali.pdf\n",
    "!wget https://arxiv.org/pdf/2310.06825 -O bench/mistral.pdf\n"
   ]
  },
  {
   "cell_type": "code",
   "execution_count": 15,
   "metadata": {},
   "outputs": [],
   "source": [
    "# from sentence_transformers import SentenceTransformer\n",
    "# import pymupdf\n",
    "# from semantic_text_splitter import TextSplitter\n",
    "# import time\n",
    "# splitter = TextSplitter(1000)\n",
    "# files = []\n",
    "# model = SentenceTransformer('BAAI/bge-small-en-v1.5')\n",
    "\n",
    "# # get all pdfs from test_files\n",
    "# now = time.time()\n",
    "\n",
    "# for file in os.listdir(\"bench\"):\n",
    "\n",
    "#   text = []\n",
    "#   doc = pymupdf.open(\"bench/\" + file)\n",
    "\n",
    "#   for page in doc:\n",
    "#       text.append(page.get_text())\n",
    "\n",
    "#   text = \" \".join(text)\n",
    "#   chunks = splitter.chunks(text)\n",
    "#   embeddings = model.encode(chunks)\n",
    "\n",
    "\n",
    "# print(time.time() - now)\n",
    "\n"
   ]
  },
  {
   "cell_type": "code",
   "execution_count": 16,
   "metadata": {},
   "outputs": [],
   "source": [
    "import torch\n",
    "import gc\n",
    "gc.collect()\n",
    "torch.cuda.empty_cache()"
   ]
  },
  {
   "cell_type": "code",
   "execution_count": 2,
   "metadata": {},
   "outputs": [
    {
     "data": {
      "application/vnd.jupyter.widget-view+json": {
       "model_id": "7935567caee743c98b741ed4ae26af3e",
       "version_major": 2,
       "version_minor": 0
      },
      "text/plain": [
       "Fetching 5 files:   0%|          | 0/5 [00:00<?, ?it/s]"
      ]
     },
     "metadata": {},
     "output_type": "display_data"
    },
    {
     "data": {
      "application/vnd.jupyter.widget-view+json": {
       "model_id": "09cdec6dcb4d422887e604ecbc1f9512",
       "version_major": 2,
       "version_minor": 0
      },
      "text/plain": [
       "tokenizer_config.json:   0%|          | 0.00/1.43k [00:00<?, ?B/s]"
      ]
     },
     "metadata": {},
     "output_type": "display_data"
    },
    {
     "data": {
      "application/vnd.jupyter.widget-view+json": {
       "model_id": "c521abf149dc49d5886675321cc8b61f",
       "version_major": 2,
       "version_minor": 0
      },
      "text/plain": [
       "config.json:   0%|          | 0.00/650 [00:00<?, ?B/s]"
      ]
     },
     "metadata": {},
     "output_type": "display_data"
    },
    {
     "data": {
      "application/vnd.jupyter.widget-view+json": {
       "model_id": "03a7d49f60fd4e618b0952fede8f3994",
       "version_major": 2,
       "version_minor": 0
      },
      "text/plain": [
       "tokenizer.json:   0%|          | 0.00/712k [00:00<?, ?B/s]"
      ]
     },
     "metadata": {},
     "output_type": "display_data"
    },
    {
     "data": {
      "application/vnd.jupyter.widget-view+json": {
       "model_id": "9e3790dd54a4498596367fc8446d1e7b",
       "version_major": 2,
       "version_minor": 0
      },
      "text/plain": [
       "special_tokens_map.json:   0%|          | 0.00/695 [00:00<?, ?B/s]"
      ]
     },
     "metadata": {},
     "output_type": "display_data"
    },
    {
     "data": {
      "application/vnd.jupyter.widget-view+json": {
       "model_id": "b56cccd153494f29ba5703237afabe3d",
       "version_major": 2,
       "version_minor": 0
      },
      "text/plain": [
       "model.onnx:   0%|          | 0.00/90.4M [00:00<?, ?B/s]"
      ]
     },
     "metadata": {},
     "output_type": "display_data"
    },
    {
     "name": "stdout",
     "output_type": "stream",
     "text": [
      "230 ms ± 2.01 ms per loop (mean ± std. dev. of 7 runs, 20 loops each)\n"
     ]
    }
   ],
   "source": [
    "from fastembed import TextEmbedding\n",
    "import pymupdf\n",
    "from semantic_text_splitter import TextSplitter\n",
    "import time\n",
    "import os\n",
    "import numpy as np\n",
    "splitter = TextSplitter(1000)\n",
    "files = []\n",
    "model = TextEmbedding(model_name = \"sentence-transformers/all-MiniLM-L6-v2\",\n",
    "                      providers=[\"CUDAExecutionProvider\", \"CPUExecutionProvider\"])\n",
    "\n",
    "def fastembed():\n",
    "# get all pdfs from test_files\n",
    "\n",
    "  for file in os.listdir(\"bench\"):\n",
    "\n",
    "    text = []\n",
    "    doc = pymupdf.open(\"bench/\" + file)\n",
    "\n",
    "    for page in doc:\n",
    "        text.append(page.get_text())\n",
    "\n",
    "    text = \" \".join(text)\n",
    "    chunks = splitter.chunks(text)\n",
    "    embeddings = list(model.embed(chunks))\n",
    "\n",
    "%timeit -n 20 fastembed()"
   ]
  },
  {
   "cell_type": "code",
   "execution_count": 1,
   "metadata": {},
   "outputs": [
    {
     "name": "stdout",
     "output_type": "stream",
     "text": [
      "Session is using CUDAExecutionProvider\n",
      "203 ms ± 6.99 ms per loop (mean ± std. dev. of 7 runs, 20 loops each)\n"
     ]
    }
   ],
   "source": [
    "from embed_anything import EmbeddingModel, WhichModel, embed_query, TextEmbedConfig\n",
    "import os\n",
    "import pymupdf\n",
    "from semantic_text_splitter import TextSplitter\n",
    "\n",
    "model = EmbeddingModel.from_pretrained_onnx(\n",
    "    WhichModel.Bert, \"AllMiniLML6V2\"\n",
    ")\n",
    "splitter = TextSplitter(1000)\n",
    "config = TextEmbedConfig(batch_size=256)\n",
    "\n",
    "def embed_anything():\n",
    "# get all pdfs from test_files\n",
    "\n",
    "  for file in os.listdir(\"bench\"):\n",
    "    text = []\n",
    "    doc = pymupdf.open(\"bench/\" + file)\n",
    "\n",
    "    for page in doc:\n",
    "        text.append(page.get_text())\n",
    "    \n",
    "    text = \" \".join(text)\n",
    "    chunks = splitter.chunks(text)\n",
    "    embed_query(chunks, model, config)\n",
    "\n",
    "%timeit -n 20 embed_anything()"
   ]
  },
  {
   "cell_type": "code",
   "execution_count": 3,
   "metadata": {},
   "outputs": [
    {
     "name": "stdout",
     "output_type": "stream",
     "text": [
      "Loading weights from \"/home/akshay/.cache/huggingface/hub/models--sentence-transformers--all-MiniLM-L6-v2/snapshots/8b3219a92973c328a8e22fadcfa821b5dc75636a/model.safetensors\"\n",
      "1.01 s ± 8.5 ms per loop (mean ± std. dev. of 7 runs, 20 loops each)\n"
     ]
    }
   ],
   "source": [
    "from embed_anything import EmbeddingModel, WhichModel, embed_query, TextEmbedConfig\n",
    "import os\n",
    "import pymupdf\n",
    "from semantic_text_splitter import TextSplitter\n",
    "import os\n",
    "\n",
    "model = EmbeddingModel.from_pretrained_hf(\n",
    "    WhichModel.Bert, \"sentence-transformers/all-MiniLM-L6-v2\"\n",
    ")\n",
    "splitter = TextSplitter(1000)\n",
    "config = TextEmbedConfig()\n",
    "\n",
    "def embed_anything():\n",
    "# get all pdfs from test_files\n",
    "\n",
    "  for file in os.listdir(\"bench\"):\n",
    "    text = []\n",
    "    doc = pymupdf.open(\"bench/\" + file)\n",
    "\n",
    "    for page in doc:\n",
    "        text.append(page.get_text())\n",
    "    \n",
    "    text = \" \".join(text)\n",
    "    chunks = splitter.chunks(text)\n",
    "    embeddings = embed_query(chunks, model, config)\n",
    "\n",
    "%timeit -n 20 embed_anything()"
   ]
  }
 ],
 "metadata": {
  "kernelspec": {
   "display_name": "langchain",
   "language": "python",
   "name": "python3"
  },
  "language_info": {
   "codemirror_mode": {
    "name": "ipython",
    "version": 3
   },
   "file_extension": ".py",
   "mimetype": "text/x-python",
   "name": "python",
   "nbconvert_exporter": "python",
   "pygments_lexer": "ipython3",
   "version": "3.11.8"
  }
 },
 "nbformat": 4,
 "nbformat_minor": 2
}
