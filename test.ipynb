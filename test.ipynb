{
 "cells": [
  {
   "cell_type": "code",
   "execution_count": 3,
   "metadata": {},
   "outputs": [
    {
     "name": "stdout",
     "output_type": "stream",
     "text": [
      "--2024-10-10 14:33:42--  https://arxiv.org/pdf/1706.03762\n",
      "Resolving arxiv.org (arxiv.org)... 151.101.67.42, 151.101.3.42, 151.101.195.42, ...\n",
      "Connecting to arxiv.org (arxiv.org)|151.101.67.42|:443... connected.\n",
      "HTTP request sent, awaiting response... 200 OK\n",
      "Length: 2215244 (2.1M) [application/pdf]\n",
      "Saving to: ‘bench/attention.pdf’\n",
      "\n",
      "bench/attention.pdf 100%[===================>]   2.11M  3.94MB/s    in 0.5s    \n",
      "\n",
      "2024-10-10 14:33:43 (3.94 MB/s) - ‘bench/attention.pdf’ saved [2215244/2215244]\n",
      "\n",
      "--2024-10-10 14:33:43--  https://arxiv.org/pdf/2407.01449\n",
      "Resolving arxiv.org (arxiv.org)... 151.101.131.42, 151.101.67.42, 151.101.3.42, ...\n",
      "Connecting to arxiv.org (arxiv.org)|151.101.131.42|:443... connected.\n",
      "HTTP request sent, awaiting response... 200 OK\n",
      "Length: 9380119 (8.9M) [application/pdf]\n",
      "Saving to: ‘bench/colpali.pdf’\n",
      "\n",
      "bench/colpali.pdf   100%[===================>]   8.95M  5.41MB/s    in 1.7s    \n",
      "\n",
      "2024-10-10 14:33:45 (5.41 MB/s) - ‘bench/colpali.pdf’ saved [9380119/9380119]\n",
      "\n",
      "--2024-10-10 14:33:45--  https://arxiv.org/pdf/2310.06825\n",
      "Resolving arxiv.org (arxiv.org)... 151.101.195.42, 151.101.131.42, 151.101.67.42, ...\n",
      "Connecting to arxiv.org (arxiv.org)|151.101.195.42|:443... connected.\n",
      "HTTP request sent, awaiting response... 200 OK\n",
      "Length: 3749788 (3.6M) [application/pdf]\n",
      "Saving to: ‘bench/mistral.pdf’\n",
      "\n",
      "bench/mistral.pdf   100%[===================>]   3.58M  6.69MB/s    in 0.5s    \n",
      "\n",
      "2024-10-10 14:33:45 (6.69 MB/s) - ‘bench/mistral.pdf’ saved [3749788/3749788]\n",
      "\n"
     ]
    }
   ],
   "source": [
    "import os\n",
    "\n",
    "if os.path.exists(\"bench\") == False:\n",
    "    os.mkdir(\"bench\")\n",
    "\n",
    "!wget https://arxiv.org/pdf/1706.03762 -O bench/attention.pdf\n",
    "!wget https://arxiv.org/pdf/2407.01449 -O bench/colpali.pdf\n",
    "!wget https://arxiv.org/pdf/2310.06825 -O bench/mistral.pdf\n"
   ]
  },
  {
   "cell_type": "code",
   "execution_count": 4,
   "metadata": {},
   "outputs": [],
   "source": [
    "# from sentence_transformers import SentenceTransformer\n",
    "# import pymupdf\n",
    "# from semantic_text_splitter import TextSplitter\n",
    "# import time\n",
    "# splitter = TextSplitter(1000)\n",
    "# files = []\n",
    "# model = SentenceTransformer('BAAI/bge-small-en-v1.5')\n",
    "\n",
    "# # get all pdfs from test_files\n",
    "# now = time.time()\n",
    "\n",
    "# for file in os.listdir(\"bench\"):\n",
    "\n",
    "#   text = []\n",
    "#   doc = pymupdf.open(\"bench/\" + file)\n",
    "\n",
    "#   for page in doc:\n",
    "#       text.append(page.get_text())\n",
    "\n",
    "#   text = \" \".join(text)\n",
    "#   chunks = splitter.chunks(text)\n",
    "#   embeddings = model.encode(chunks)\n",
    "\n",
    "\n",
    "# print(time.time() - now)\n",
    "\n"
   ]
  },
  {
   "cell_type": "code",
   "execution_count": 5,
   "metadata": {},
   "outputs": [],
   "source": [
    "import torch\n",
    "import gc\n",
    "gc.collect()\n",
    "torch.cuda.empty_cache()"
   ]
  },
  {
   "cell_type": "code",
   "execution_count": 15,
   "metadata": {},
   "outputs": [
    {
     "data": {
      "application/vnd.jupyter.widget-view+json": {
       "model_id": "139d33c5413f482db6658d2ca1634317",
       "version_major": 2,
       "version_minor": 0
      },
      "text/plain": [
       "Fetching 5 files:   0%|          | 0/5 [00:00<?, ?it/s]"
      ]
     },
     "metadata": {},
     "output_type": "display_data"
    },
    {
     "name": "stdout",
     "output_type": "stream",
     "text": [
      "colpali.pdf\n",
      "mistral.pdf\n",
      "attention.pdf\n",
      "0.2967040538787842\n"
     ]
    }
   ],
   "source": [
    "from fastembed import TextEmbedding\n",
    "import pymupdf\n",
    "from semantic_text_splitter import TextSplitter\n",
    "import time\n",
    "import os\n",
    "splitter = TextSplitter(1000)\n",
    "files = []\n",
    "model = TextEmbedding(model_name = \"BAAI/bge-small-en-v1.5\",\n",
    "                      providers=[\"CUDAExecutionProvider\", \"CPUExecutionProvider\"])\n",
    "\n",
    "# get all pdfs from test_files\n",
    "now = time.time()\n",
    "\n",
    "for file in os.listdir(\"bench\"):\n",
    "\n",
    "  text = []\n",
    "  print(file)\n",
    "  doc = pymupdf.open(\"bench/\" + file)\n",
    "\n",
    "  for page in doc:\n",
    "      text.append(page.get_text())\n",
    "\n",
    "  text = \" \".join(text)\n",
    "  chunks = splitter.chunks(text)\n",
    "  embeddings = list(model.embed(chunks))\n",
    "  \n",
    "print(time.time() - now)\n"
   ]
  },
  {
   "cell_type": "code",
   "execution_count": 1,
   "metadata": {},
   "outputs": [],
   "source": [
    "from embed_anything import EmbeddingModel, WhichModel, TextEmbedConfig, embed_query, embed_directory\n",
    "import time\n",
    "\n",
    "import pymupdf\n",
    "from semantic_text_splitter import TextSplitter\n",
    "import time\n",
    "import os\n",
    "\n",
    "config = TextEmbedConfig(256, 2)\n",
    "model = EmbeddingModel.from_pretrained_onnx(WhichModel.Bert, \"BAAI/bge-small-en-v1.5\")\n",
    "splitter = TextSplitter(1000)\n",
    "files = []\n",
    "\n",
    "\n",
    "# get all pdfs from test_files\n",
    "now = time.time()\n",
    "\n",
    "for file in os.listdir(\"bench\"):\n",
    "  text = []\n",
    "  print(file)\n",
    "  doc = pymupdf.open(\"bench/\" + file)\n",
    "\n",
    "  for page in doc:\n",
    "      text.append(page.get_text())\n",
    "  \n",
    "  text = \" \".join(text)\n",
    "  chunks = splitter.chunks(text)\n",
    "  embeddings = embed_query(chunks, model, config)\n",
    "print(time.time() - now)\n"
   ]
  },
  {
   "cell_type": "code",
   "execution_count": null,
   "metadata": {},
   "outputs": [],
   "source": []
  }
 ],
 "metadata": {
  "kernelspec": {
   "display_name": "langchain",
   "language": "python",
   "name": "python3"
  },
  "language_info": {
   "codemirror_mode": {
    "name": "ipython",
    "version": 3
   },
   "file_extension": ".py",
   "mimetype": "text/x-python",
   "name": "python",
   "nbconvert_exporter": "python",
   "pygments_lexer": "ipython3",
   "version": "3.11.8"
  }
 },
 "nbformat": 4,
 "nbformat_minor": 2
}
